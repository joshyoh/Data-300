{
  "nbformat": 4,
  "nbformat_minor": 0,
  "metadata": {
    "colab": {
      "name": "Start of Cryptography Code.ipynb",
      "provenance": [],
      "collapsed_sections": [],
      "authorship_tag": "ABX9TyMsD94Ei3/ImZeGMn4vnvfo",
      "include_colab_link": true
    },
    "kernelspec": {
      "name": "python3",
      "display_name": "Python 3"
    },
    "language_info": {
      "name": "python"
    }
  },
  "cells": [
    {
      "cell_type": "markdown",
      "metadata": {
        "id": "view-in-github",
        "colab_type": "text"
      },
      "source": [
        "<a href=\"https://colab.research.google.com/github/joshyoh/Data-300/blob/main/Start_of_Cryptography_Code.ipynb\" target=\"_parent\"><img src=\"https://colab.research.google.com/assets/colab-badge.svg\" alt=\"Open In Colab\"/></a>"
      ]
    },
    {
      "cell_type": "code",
      "execution_count": null,
      "metadata": {
        "id": "h0cxG7KJ7VFv",
        "colab": {
          "base_uri": "https://localhost:8080/"
        },
        "outputId": "2b041b82-39e4-4331-b82d-6edce7dfe58f"
      },
      "outputs": [
        {
          "output_type": "stream",
          "name": "stdout",
          "text": [
            "['f', 'a', 'n', 't', 'a', 's', 't', 'i', 'c']\n",
            "[6, 1, 14, 20, 1, 19, 20, 9, 3]\n",
            "['f', 'a', 'n', 't', 'a', 's', 't', 'i', 'c']\n"
          ]
        }
      ],
      "source": [
        "#Creating dictionary indexing the letters and assigning corresponding number (a = 1, z = 26)\n",
        "alph= {}\n",
        "a_let = (\"a\",\"b\",\"c\",\"d\",\"e\",\"f\",\"g\",\"h\",\"i\",\"j\",\"k\",\"l\",\"m\",\"n\",\"o\",\"p\",\"q\",\"r\",\"s\",\"t\",\"u\",\"v\",\"w\",\"x\",\"y\",\"z\")\n",
        "for i in range(len(a_let)):\n",
        "  alph[a_let[i]] = i+1\n",
        "#print(alph)\n",
        "\n",
        "\n",
        "test = \"fantastic\"\n",
        "\n",
        "\n",
        "#Function to create a list of characters for any given word (needs character input)\n",
        "def seperate_characters(word): \n",
        "  characters = [0] * len(word)\n",
        "  for i in range(len(word)):\n",
        "    characters[i] = word[i]\n",
        "  return characters\n",
        "\n",
        "\n",
        "#Creates list of numbers that corresponds to each number in the given word\n",
        "def get_num (word):\n",
        "  numbers = [0]*len(word)\n",
        "  for i in range(len(word)):\n",
        "    numbers[i] = alph[word[i]]\n",
        "  return numbers\n",
        "\n",
        "\n",
        "#Creates list of characters that correspond to each letter\n",
        "a = list(alph.values())\n",
        "b = list(alph.keys())\n",
        "def get_let(*numbers):\n",
        "  letters = [0]*len(numbers)\n",
        "  for i in range(len(numbers)):\n",
        "    position = a.index(numbers[i])\n",
        "    letters[i] = b[position]\n",
        "  return letters\n",
        "\n",
        "\n",
        "def simplify(numbers):\n",
        "  simplified = [0] * len(numbers)\n",
        "  \n",
        "  return simplified\n",
        "\n",
        "\n",
        "print(seperate_characters(test))\n",
        "print(get_num(test))\n",
        "print(get_let(6, 1, 14, 20, 1, 19, 20, 9, 3))"
      ]
    }
  ]
}